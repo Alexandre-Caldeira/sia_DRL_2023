{
 "cells": [
  {
   "cell_type": "code",
   "execution_count": 12,
   "metadata": {},
   "outputs": [
    {
     "name": "stdout",
     "output_type": "stream",
     "text": [
      "checkpoint successfull @agora...0_29\n",
      "checkpoint successfull @agora...50_29\n",
      "checkpoint successfull @agora...100_29\n",
      "checkpoint successfull @agora...150_29\n",
      "checkpoint successfull @agora...200_29\n"
     ]
    }
   ],
   "source": [
    "import os\n",
    "import shelve\n",
    "import numpy as np\n",
    "\n",
    "hist_dict = {'pos':{}, 'scan':{}, 'rewards':{}, 'rewards_eval':{},'rates':{}, 'state':{}, 'epresult':{}}\n",
    "checkpoint_inter = 50\n",
    "path = './singlevar_wsh'\n",
    "\n",
    "for episode in range(0,250):\n",
    "    for i in range(0,30):\n",
    "        if i==0:\n",
    "            hist_dict['pos'][episode+1] = [np.random.randint(0,5,10)]\n",
    "            hist_dict['scan'][episode+1] = [np.random.randint(0,50000,727)/10000]\n",
    "            hist_dict['state'][episode+1] = [np.random.randint(0,5,11)]\n",
    "        else:\n",
    "            hist_dict['pos'][episode+1].append(np.random.randint(0,5,10))\n",
    "            hist_dict['scan'][episode+1].append(np.random.randint(0,50000,727)/10000)\n",
    "            hist_dict['state'][episode+1].append(np.random.randint(0,5,11))\n",
    "\n",
    "    if episode % checkpoint_inter ==0:\n",
    "        if not os.path.exists(path):\n",
    "                os.makedirs(path)\n",
    "        filename=path+'/single_dict'+'.out'\n",
    "        my_shelf = shelve.open(filename,flag = 'n') # 'n' for new\n",
    "        try:    my_shelf['hist_dict'] = hist_dict\n",
    "        except: # __builtins__, my_shelf, and imported modules can not be shelved.\n",
    "            print('ERROR shelving: {0}'.format('hist_dict'))\n",
    "        my_shelf.close()\n",
    "        print('checkpoint successfull @agora...'+str(episode)+'_'+str(i))\n"
   ]
  },
  {
   "cell_type": "code",
   "execution_count": 13,
   "metadata": {},
   "outputs": [
    {
     "name": "stdout",
     "output_type": "stream",
     "text": [
      "<shelve.DbfilenameShelf object at 0x0000024DFF6140D0>\n",
      "['hist_dict']\n",
      "pos, scan, rewards, rewards_eval, rates, state, epresult, "
     ]
    }
   ],
   "source": [
    "workspace_lido = shelve.open('./singlevar_wsh/single_dict.out') \n",
    "hist_dict_lido = workspace_lido['hist_dict']\n",
    "# true if the key exists\n",
    "vars = list(workspace_lido.keys())\n",
    "print(workspace_lido)\n",
    "print(vars)\n",
    "for key in hist_dict_lido.keys(): print(key, end=', ')"
   ]
  },
  {
   "cell_type": "code",
   "execution_count": null,
   "metadata": {},
   "outputs": [],
   "source": []
  }
 ],
 "metadata": {
  "kernelspec": {
   "display_name": "Python 3",
   "language": "python",
   "name": "python3"
  },
  "language_info": {
   "codemirror_mode": {
    "name": "ipython",
    "version": 3
   },
   "file_extension": ".py",
   "mimetype": "text/x-python",
   "name": "python",
   "nbconvert_exporter": "python",
   "pygments_lexer": "ipython3",
   "version": "3.11.4"
  }
 },
 "nbformat": 4,
 "nbformat_minor": 2
}
